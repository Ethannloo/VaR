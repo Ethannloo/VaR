{
 "cells": [
  {
   "cell_type": "code",
   "execution_count": 20,
   "id": "9892a0fa-284d-48e8-b030-6411007fca4d",
   "metadata": {},
   "outputs": [],
   "source": [
    "import pandas as pd\n",
    "import numpy as np\n",
    "import matplotlib.pyplot as plt\n",
    "from scipy.stats import norm, t"
   ]
  },
  {
   "cell_type": "markdown",
   "id": "9c5412ab-838f-4925-b9ac-7ec606da8629",
   "metadata": {},
   "source": [
    "#### Value at Risk and Conditional Value at Risk Engine Overview\n",
    "\n",
    "In this project, I explore the different methods of calculating VaR and CVaR."
   ]
  },
  {
   "cell_type": "code",
   "execution_count": 22,
   "id": "174b24c5-d223-43fe-a435-d61971f187c2",
   "metadata": {},
   "outputs": [],
   "source": [
    "# Load prices from adj close prices csv and computing log returns\n",
    "prices = pd.read_csv(\"adj_close_prices.csv\", parse_dates=[\"Date\"], index_col=\"Date\").sort_index()\n",
    "log_returns = np.log(prices / prices.shift(1)).dropna()"
   ]
  },
  {
   "cell_type": "code",
   "execution_count": 24,
   "id": "f9974bd2-e8b6-43d9-8167-1f2620b736e0",
   "metadata": {},
   "outputs": [],
   "source": [
    "# Generating random portfolio weights\n",
    "weights = np.random.random(len(log_returns.columns))\n",
    "weights /= np.sum(weights)"
   ]
  },
  {
   "cell_type": "code",
   "execution_count": 26,
   "id": "1b65d544-2259-4a08-af92-56134c663248",
   "metadata": {},
   "outputs": [],
   "source": [
    "# Compute covariance matrix\n",
    "cov_mat = log_returns.cov()"
   ]
  },
  {
   "cell_type": "code",
   "execution_count": 28,
   "id": "22757e2e-343b-4946-9e6d-dac739f4510f",
   "metadata": {},
   "outputs": [],
   "source": [
    "# Historical VaR\n",
    "def Historical_VaR(weights, log_returns, amount_invested, confidence, lookback_days=520):\n",
    "    recent_returns = log_returns[-lookback_days:]\n",
    "    portfolio_returns = recent_returns.dot(weights)\n",
    "    percentile = (1 - confidence) * 100\n",
    "    hist_Var = -np.percentile(portfolio_returns, percentile) * amount_invested\n",
    "    return hist_Var"
   ]
  },
  {
   "cell_type": "markdown",
   "id": "c70e99b2-8555-48c7-b436-fe47e6ba2d85",
   "metadata": {},
   "source": [
    "#### Historical VaR\n",
    "Historical Value at Risk "
   ]
  },
  {
   "cell_type": "code",
   "execution_count": 34,
   "id": "7eaadb29-ba0b-41fd-be63-18240fd22abd",
   "metadata": {},
   "outputs": [],
   "source": [
    "# Parametric (Normal) VaR\n",
    "def Parametric_VaR(cov_mat, weights, portfolio_value, confidence):\n",
    "    portfolio_std = np.sqrt(weights.T @ cov_mat.values @ weights)\n",
    "    z_score = norm.ppf(1 - confidence)\n",
    "    one_day_VaR = -z_score * portfolio_std * portfolio_value\n",
    "    return one_day_VaR"
   ]
  },
  {
   "cell_type": "markdown",
   "id": "4044ea9d-4d21-4c84-acdb-86032f46ed4c",
   "metadata": {},
   "source": [
    "#### Parametric VaR\n"
   ]
  },
  {
   "cell_type": "code",
   "execution_count": 45,
   "id": "fb0f0891-5a6f-4031-bad9-dbb72ab98d4a",
   "metadata": {},
   "outputs": [],
   "source": [
    "# Parametric t-distribution VaR\n",
    "def Tdist_Parametric_VaR(cov_mat, weights, portfolio_value, confidence, df=5):\n",
    "    portfolio_std = np.sqrt(weights.T @ cov_mat.values @ weights)\n",
    "    t_score = t.ppf(1 - confidence, df)\n",
    "    one_day_VaR = -t_score * portfolio_std * portfolio_value\n",
    "    return one_day_VaR"
   ]
  },
  {
   "cell_type": "markdown",
   "id": "b76f91b1-1b01-4199-818b-ddef104c44ad",
   "metadata": {},
   "source": [
    "#### Parametric VaR under the T distribution"
   ]
  },
  {
   "cell_type": "code",
   "execution_count": 47,
   "id": "29ef9a68-e0a7-4f1b-88cf-a4662f7c64a4",
   "metadata": {},
   "outputs": [
    {
     "name": "stdout",
     "output_type": "stream",
     "text": [
      "Historical VaR (95%): $13,649.12\n",
      "Parametric VaR (Normal, 95%): $14,939.26\n",
      "t VaR (df=5, 95%): $18,301.53\n"
     ]
    }
   ],
   "source": [
    "# Testing\n",
    "amount_invested = 1000000\n",
    "confidence = 0.95\n",
    "\n",
    "hist_var = Historical_VaR(weights, log_returns, amount_invested, confidence)\n",
    "param_var = Parametric_VaR(cov_mat, weights, amount_invested, confidence)\n",
    "t_var = Tdist_Parametric_VaR(cov_mat, weights, amount_invested, confidence)\n",
    "\n",
    "print(f\"Historical VaR (95%): ${hist_var:,.2f}\")\n",
    "print(f\"Parametric VaR (Normal, 95%): ${param_var:,.2f}\")\n",
    "print(f\"t VaR (df=5, 95%): ${t_var:,.2f}\")"
   ]
  },
  {
   "cell_type": "code",
   "execution_count": 49,
   "id": "f5014fac-af59-4f34-bb2c-57af2d6df414",
   "metadata": {},
   "outputs": [],
   "source": [
    "def Historical_CVaR(weights, log_returns, amount_invested, confidence, lookback_days=520):\n",
    "    recent_returns = log_returns[-lookback_days:]\n",
    "    portfolio_returns = recent_returns.dot(weights)\n",
    "    var_threshold = np.percentile(portfolio_returns, (1 - confidence) * 100)\n",
    "\n",
    "    # Get all returns worse than or equal to the VaR threshold\n",
    "    tail_losses = portfolio_returns[portfolio_returns <= var_threshold]\n",
    "\n",
    "    # Average tail loss × invested capital\n",
    "    cvar = -np.mean(tail_losses) * amount_invested\n",
    "    return cvar\n"
   ]
  },
  {
   "cell_type": "code",
   "execution_count": 51,
   "id": "df53d8b6-41db-4631-906a-62bdcab3c845",
   "metadata": {},
   "outputs": [],
   "source": [
    "def Parametric_CVaR(cov_mat, weights, portfolio_value, confidence):\n",
    "    portfolio_std = np.sqrt(weights.T @ cov_mat.values @ weights)\n",
    "    z = norm.ppf(confidence)\n",
    "    cvar = portfolio_value * portfolio_std * norm.pdf(z) / (1 - confidence)\n",
    "    return cvar\n"
   ]
  },
  {
   "cell_type": "code",
   "execution_count": 53,
   "id": "bb823620-c973-4df3-bd3f-39028f2949fd",
   "metadata": {},
   "outputs": [
    {
     "name": "stdout",
     "output_type": "stream",
     "text": [
      "Historical CVaR (95%): $19,072.07\n",
      "Parametric CVaR (95%): $18,734.44\n"
     ]
    }
   ],
   "source": [
    "amount_invested = 1_000_000\n",
    "confidence = 0.95\n",
    "\n",
    "hist_cvar = Historical_CVaR(weights, log_returns, amount_invested, confidence)\n",
    "param_cvar = Parametric_CVaR(cov_mat, weights, amount_invested, confidence)\n",
    "\n",
    "print(f\"Historical CVaR (95%): ${hist_cvar:,.2f}\")\n",
    "print(f\"Parametric CVaR (95%): ${param_cvar:,.2f}\")\n"
   ]
  },
  {
   "cell_type": "code",
   "execution_count": 55,
   "id": "070ef4cd-6ce9-46bb-8db2-fc6ed9b07872",
   "metadata": {},
   "outputs": [],
   "source": [
    "def MonteCarlo_VaR(log_returns, weights, amount_invested, confidence=0.95, num_simulations=10000):\n",
    "    # Mean and covariance matrix of returns\n",
    "    mean = log_returns.mean().values\n",
    "    cov = log_returns.cov().values\n",
    "\n",
    "    # Simulate future returns using multivariate normal distribution\n",
    "    simulated_returns = np.random.multivariate_normal(mean, cov, size=num_simulations)\n",
    "\n",
    "    # Simulate portfolio returns\n",
    "    portfolio_returns = simulated_returns @ weights\n",
    "\n",
    "    # Calculate losses\n",
    "    portfolio_losses = -portfolio_returns * amount_invested\n",
    "\n",
    "    # Calculate the VaR at the (1 - confidence) percentile\n",
    "    var = np.percentile(portfolio_losses, (1 - confidence) * 100)\n",
    "\n",
    "    return var\n"
   ]
  },
  {
   "cell_type": "code",
   "execution_count": 57,
   "id": "b3cab58f-befe-4ef1-9d42-5e36c65593f2",
   "metadata": {},
   "outputs": [],
   "source": [
    "def MonteCarlo_CVaR(log_returns, weights, amount_invested, confidence, num_simulations=10000):\n",
    "    # Compute mean and covariance matrix\n",
    "    mean = log_returns.mean().values\n",
    "    cov = log_returns.cov().values\n",
    "    \n",
    "    # Simulate future returns (1-day) from multivariate normal\n",
    "    simulated_returns = np.random.multivariate_normal(mean, cov, size=num_simulations)\n",
    "    \n",
    "    # Portfolio returns = dot product of simulated asset returns with weights\n",
    "    portfolio_returns = simulated_returns @ weights\n",
    "\n",
    "    # Compute portfolio losses\n",
    "    portfolio_losses = -portfolio_returns * amount_invested\n",
    "\n",
    "    # Compute VaR threshold\n",
    "    var_cutoff = np.percentile(portfolio_losses, (1 - confidence) * 100)\n",
    "\n",
    "    # CVaR = mean of all losses worse than or equal to VaR\n",
    "    cvar = portfolio_losses[portfolio_losses >= var_cutoff].mean()\n",
    "\n",
    "    return var_cutoff, cvar\n"
   ]
  },
  {
   "cell_type": "code",
   "execution_count": null,
   "id": "02d5da09-f9c1-410d-b465-89ecd21bee6d",
   "metadata": {},
   "outputs": [],
   "source": []
  }
 ],
 "metadata": {
  "kernelspec": {
   "display_name": "Python [conda env:py39]",
   "language": "python",
   "name": "conda-env-py39-py"
  },
  "language_info": {
   "codemirror_mode": {
    "name": "ipython",
    "version": 3
   },
   "file_extension": ".py",
   "mimetype": "text/x-python",
   "name": "python",
   "nbconvert_exporter": "python",
   "pygments_lexer": "ipython3",
   "version": "3.9.18"
  }
 },
 "nbformat": 4,
 "nbformat_minor": 5
}
